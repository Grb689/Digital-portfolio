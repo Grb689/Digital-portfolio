{
  "cells": [
    {
      "cell_type": "markdown",
      "metadata": {
        "id": "view-in-github",
        "colab_type": "text"
      },
      "source": [
        "<a href=\"https://colab.research.google.com/github/Grb689/Digital-portfolio/blob/main/Aadhar%20fill%20up%20form.ipynb\" target=\"_parent\"><img src=\"https://colab.research.google.com/assets/colab-badge.svg\" alt=\"Open In Colab\"/></a>"
      ]
    },
    {
      "cell_type": "code",
      "source": [
        "def aadhar_form():\n",
        "    print(\"=== Aadhar Enrollment Form ===\")\n",
        "\n",
        "    # Collecting basic details\n",
        "    name = input(\"Enter your full name: \")\n",
        "    father_name = input(\"Enter your father's name: \")\n",
        "    dob = input(\"Enter your Date of Birth (DD/MM/YYYY): \")\n",
        "    gender = input(\"Enter your gender (Male/Female/Other): \")\n",
        "    address = input(\"Enter your full address: \")\n",
        "    city = input(\"Enter your city: \")\n"
      ],
      "metadata": {
        "id": "gmA159F9nNmt"
      },
      "execution_count": 23,
      "outputs": []
    }
  ],
  "metadata": {
    "colab": {
      "name": "Welcome To Colab",
      "provenance": [],
      "include_colab_link": true
    },
    "kernelspec": {
      "display_name": "Python 3",
      "name": "python3"
    }
  },
  "nbformat": 4,
  "nbformat_minor": 0
}