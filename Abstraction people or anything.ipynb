{
  "cells": [
    {
      "cell_type": "markdown",
      "metadata": {
        "id": "view-in-github",
        "colab_type": "text"
      },
      "source": [
        "<a href=\"https://colab.research.google.com/github/Grb689/Digital-portfolio/blob/main/Abstraction%20people%20or%20anything.ipynb\" target=\"_parent\"><img src=\"https://colab.research.google.com/assets/colab-badge.svg\" alt=\"Open In Colab\"/></a>"
      ]
    },
    {
      "cell_type": "code",
      "source": [
        "from abc import ABC, abstractmethod\n",
        "\n",
        "# Abstract base class\n",
        "class Person(ABC):\n",
        "    def __init__(self, name):\n",
        "        self.name = name\n",
        "\n",
        "    @abstractmethod\n",
        "    def work(self):\n",
        "        pass  # Abstract method — must be implemented by subclasses\n",
        "\n",
        "# Child class 1\n",
        "class Teacher(Person):\n",
        "    def work(self):\n",
        "        print(f\"{self.name} is teaching students.\")\n",
        "\n",
        "# Child class 2\n",
        "class Engineer(Person):\n",
        "    def work(self):\n",
        "        print(f\"{self.name} is developing software.\")\n",
        "\n",
        "# Create objects\n",
        "teacher = Teacher(\"Alice\")\n",
        "engineer = Engineer(\"Bob\")\n",
        "\n",
        "# Call the abstract method implementations\n",
        "teacher.work()\n",
        "engineer.work()\n"
      ],
      "metadata": {
        "id": "U2ToQeOukZ9q",
        "outputId": "c22b927d-c3bf-4630-8a4c-e561441ad1c1",
        "colab": {
          "base_uri": "https://localhost:8080/"
        }
      },
      "execution_count": 15,
      "outputs": [
        {
          "output_type": "stream",
          "name": "stdout",
          "text": [
            "Alice is teaching students.\n",
            "Bob is developing software.\n"
          ]
        }
      ]
    }
  ],
  "metadata": {
    "colab": {
      "name": "Welcome To Colab",
      "provenance": [],
      "include_colab_link": true
    },
    "kernelspec": {
      "display_name": "Python 3",
      "name": "python3"
    }
  },
  "nbformat": 4,
  "nbformat_minor": 0
}