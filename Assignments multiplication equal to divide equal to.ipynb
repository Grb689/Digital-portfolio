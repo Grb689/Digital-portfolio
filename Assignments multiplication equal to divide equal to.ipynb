{
  "cells": [
    {
      "cell_type": "markdown",
      "metadata": {
        "id": "view-in-github",
        "colab_type": "text"
      },
      "source": [
        "<a href=\"https://colab.research.google.com/github/Grb689/Digital-portfolio/blob/main/Assignments%20multiplication%20equal%20to%20divide%20equal%20to.ipynb\" target=\"_parent\"><img src=\"https://colab.research.google.com/assets/colab-badge.svg\" alt=\"Open In Colab\"/></a>"
      ]
    },
    {
      "cell_type": "code",
      "source": [
        "# Initial value\n",
        "number = 10\n",
        "\n",
        "# Multiply and assign\n",
        "number *= 2  # Equivalent to: number = number * 2\n",
        "print(\"After *= 2, number =\", number)\n",
        "\n",
        "# Divide and assign\n",
        "number /= 5  # Equivalent to: number = number / 5\n",
        "print(\"After /= 5, number =\", number)\n"
      ],
      "metadata": {
        "id": "hTHnq8YLiBJN",
        "outputId": "a158d348-9f5a-411e-fbd1-0af13395fda7",
        "colab": {
          "base_uri": "https://localhost:8080/"
        }
      },
      "execution_count": 8,
      "outputs": [
        {
          "output_type": "stream",
          "name": "stdout",
          "text": [
            "After *= 2, number = 20\n",
            "After /= 5, number = 4.0\n"
          ]
        }
      ]
    }
  ],
  "metadata": {
    "colab": {
      "name": "Welcome To Colab",
      "provenance": [],
      "include_colab_link": true
    },
    "kernelspec": {
      "display_name": "Python 3",
      "name": "python3"
    }
  },
  "nbformat": 4,
  "nbformat_minor": 0
}