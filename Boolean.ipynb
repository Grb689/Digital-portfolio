{
  "cells": [
    {
      "cell_type": "markdown",
      "metadata": {
        "id": "view-in-github",
        "colab_type": "text"
      },
      "source": [
        "<a href=\"https://colab.research.google.com/github/Grb689/Digital-portfolio/blob/main/Boolean.ipynb\" target=\"_parent\"><img src=\"https://colab.research.google.com/assets/colab-badge.svg\" alt=\"Open In Colab\"/></a>"
      ]
    },
    {
      "cell_type": "code",
      "source": [
        "# Boolean values: True and False\n",
        "is_raining = True\n",
        "is_sunny = False\n",
        "\n",
        "# Print boolean values\n",
        "print(\"Is it raining?\", is_raining)\n",
        "print(\"Is it sunny?\", is_sunny)\n",
        "\n",
        "# Use boolean in a conditional statement\n",
        "if is_raining:\n",
        "    print(\"Don't forget to take an umbrella!\")\n",
        "else:\n",
        "    print(\"No need for an umbrella.\")\n",
        "\n",
        "# Boolean expressions\n",
        "temperature = 30\n",
        "is_hot = temperature > 25\n",
        "print(\"Is it hot outside?\", is_hot)\n",
        "\n",
        "# Using booleans in logical operations\n",
        "have_umbrella = True\n",
        "go_outside = not is_raini\n"
      ],
      "metadata": {
        "id": "CWSHEhB8glri",
        "outputId": "a96313f9-bc75-44a2-b893-7d01b06757e2",
        "colab": {
          "base_uri": "https://localhost:8080/",
          "height": 361
        }
      },
      "execution_count": 5,
      "outputs": [
        {
          "output_type": "stream",
          "name": "stdout",
          "text": [
            "Is it raining? True\n",
            "Is it sunny? False\n",
            "Don't forget to take an umbrella!\n",
            "Is it hot outside? True\n"
          ]
        },
        {
          "output_type": "error",
          "ename": "NameError",
          "evalue": "name 'is_raini' is not defined",
          "traceback": [
            "\u001b[0;31m---------------------------------------------------------------------------\u001b[0m",
            "\u001b[0;31mNameError\u001b[0m                                 Traceback (most recent call last)",
            "\u001b[0;32m/tmp/ipython-input-5-741367976.py\u001b[0m in \u001b[0;36m<cell line: 0>\u001b[0;34m()\u001b[0m\n\u001b[1;32m     20\u001b[0m \u001b[0;31m# Using booleans in logical operations\u001b[0m\u001b[0;34m\u001b[0m\u001b[0;34m\u001b[0m\u001b[0m\n\u001b[1;32m     21\u001b[0m \u001b[0mhave_umbrella\u001b[0m \u001b[0;34m=\u001b[0m \u001b[0;32mTrue\u001b[0m\u001b[0;34m\u001b[0m\u001b[0;34m\u001b[0m\u001b[0m\n\u001b[0;32m---> 22\u001b[0;31m \u001b[0mgo_outside\u001b[0m \u001b[0;34m=\u001b[0m \u001b[0;32mnot\u001b[0m \u001b[0mis_raini\u001b[0m\u001b[0;34m\u001b[0m\u001b[0;34m\u001b[0m\u001b[0m\n\u001b[0m",
            "\u001b[0;31mNameError\u001b[0m: name 'is_raini' is not defined"
          ]
        }
      ]
    }
  ],
  "metadata": {
    "colab": {
      "name": "Welcome To Colab",
      "provenance": [],
      "include_colab_link": true
    },
    "kernelspec": {
      "display_name": "Python 3",
      "name": "python3"
    }
  },
  "nbformat": 4,
  "nbformat_minor": 0
}