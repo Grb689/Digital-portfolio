{
  "cells": [
    {
      "cell_type": "markdown",
      "metadata": {
        "id": "view-in-github",
        "colab_type": "text"
      },
      "source": [
        "<a href=\"https://colab.research.google.com/github/Grb689/Digital-portfolio/blob/main/City%20how%20many%20building%20in%20future%20engineering%20.ipynb\" target=\"_parent\"><img src=\"https://colab.research.google.com/assets/colab-badge.svg\" alt=\"Open In Colab\"/></a>"
      ]
    },
    {
      "cell_type": "code",
      "source": [
        "import pandas as pd\n",
        "import numpy as np\n",
        "from sklearn.linear_model import LinearRegression\n",
        "import matplotlib.pyplot as plt\n",
        "\n",
        "# Sample data: Year and number of buildings\n",
        "data = {\n",
        "    'Year': [2000, 2005, 2010, 2015, 2020],\n",
        "    'Buildings': [1000, 1500, 2300, 3100, 4000]\n",
        "}\n",
        "\n",
        "df = pd.DataFrame(data)\n",
        "\n",
        "# Feature Engineering: Create \"Years_Since_2000\"\n",
        "df['Years_Since_2000'] = df['Year'] - 2000\n",
        "\n",
        "# Prepare data for model\n",
        "X = df[['Years_Since_2000']]  # Feature\n",
        "y = df['Buildings']            # Target\n",
        "\n",
        "# Train linear regression model\n",
        "model = LinearRegression()\n",
        "model.fit(X, y)\n",
        "\n",
        "# Pre\n"
      ],
      "metadata": {
        "id": "d9cl6zZxmrIm"
      },
      "execution_count": null,
      "outputs": []
    }
  ],
  "metadata": {
    "colab": {
      "name": "Welcome To Colab",
      "provenance": [],
      "include_colab_link": true
    },
    "kernelspec": {
      "display_name": "Python 3",
      "name": "python3"
    }
  },
  "nbformat": 4,
  "nbformat_minor": 0
}