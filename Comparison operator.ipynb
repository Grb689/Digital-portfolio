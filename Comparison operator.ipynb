{
  "cells": [
    {
      "cell_type": "markdown",
      "metadata": {
        "id": "view-in-github",
        "colab_type": "text"
      },
      "source": [
        "<a href=\"https://colab.research.google.com/github/Grb689/Digital-portfolio/blob/main/Comparison%20operator.ipynb\" target=\"_parent\"><img src=\"https://colab.research.google.com/assets/colab-badge.svg\" alt=\"Open In Colab\"/></a>"
      ]
    },
    {
      "cell_type": "code",
      "source": [
        "a = 10\n",
        "b = 5\n",
        "\n",
        "# Comparison operators\n",
        "print(\"a == b:\", a == b)   # Equal to\n",
        "print(\"a != b:\", a != b)   # Not equal to\n",
        "print(\"a > b:\", a > b)     # Greater than\n",
        "print(\"a < b:\", a < b)     # Less than\n",
        "print(\"a >= b:\", a >= b)   # Greater than or equal to\n",
        "print(\"a <= b:\", a <= b)   # Less than or equal to\n"
      ],
      "metadata": {
        "id": "st-D6OaNiovL",
        "outputId": "9fb7753b-703a-4fad-a218-e81cc46a7cb9",
        "colab": {
          "base_uri": "https://localhost:8080/"
        }
      },
      "execution_count": 9,
      "outputs": [
        {
          "output_type": "stream",
          "name": "stdout",
          "text": [
            "a == b: False\n",
            "a != b: True\n",
            "a > b: True\n",
            "a < b: False\n",
            "a >= b: True\n",
            "a <= b: False\n"
          ]
        }
      ]
    }
  ],
  "metadata": {
    "colab": {
      "name": "Welcome To Colab",
      "provenance": [],
      "include_colab_link": true
    },
    "kernelspec": {
      "display_name": "Python 3",
      "name": "python3"
    }
  },
  "nbformat": 4,
  "nbformat_minor": 0
}