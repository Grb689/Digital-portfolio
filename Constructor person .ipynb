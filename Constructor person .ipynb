{
  "cells": [
    {
      "cell_type": "markdown",
      "metadata": {
        "id": "view-in-github",
        "colab_type": "text"
      },
      "source": [
        "<a href=\"https://colab.research.google.com/github/Grb689/Digital-portfolio/blob/main/Constructor%20person%20.ipynb\" target=\"_parent\"><img src=\"https://colab.research.google.com/assets/colab-badge.svg\" alt=\"Open In Colab\"/></a>"
      ]
    },
    {
      "cell_type": "code",
      "source": [
        "class Person:\n",
        "    def __init__(self, name, age):\n",
        "        # Constructor initializes the object's attributes\n",
        "        self.name = name\n",
        "        self.age = age\n",
        "\n",
        "    def display(self):\n",
        "        print(f\"Name: {self.name}\")\n",
        "        print(f\"Age: {self.age}\")\n",
        "\n",
        "# Creating objects with constructor\n",
        "person1 = Person(\"Alice\", 25)\n",
        "person2 = Person(\"Bob\", 30)\n",
        "\n",
        "# Display their information\n",
        "person1.display()\n",
        "person2.display()\n"
      ],
      "metadata": {
        "id": "asyKFakdk1hr",
        "outputId": "20bdeab2-6eb6-4db7-801d-2bfd1967e134",
        "colab": {
          "base_uri": "https://localhost:8080/"
        }
      },
      "execution_count": 17,
      "outputs": [
        {
          "output_type": "stream",
          "name": "stdout",
          "text": [
            "Name: Alice\n",
            "Age: 25\n",
            "Name: Bob\n",
            "Age: 30\n"
          ]
        }
      ]
    }
  ],
  "metadata": {
    "colab": {
      "name": "Welcome To Colab",
      "provenance": [],
      "include_colab_link": true
    },
    "kernelspec": {
      "display_name": "Python 3",
      "name": "python3"
    }
  },
  "nbformat": 4,
  "nbformat_minor": 0
}