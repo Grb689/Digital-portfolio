{
  "cells": [
    {
      "cell_type": "markdown",
      "metadata": {
        "id": "view-in-github",
        "colab_type": "text"
      },
      "source": [
        "<a href=\"https://colab.research.google.com/github/Grb689/Digital-portfolio/blob/main/Default%20constructor%20vehicle%20.ipynb\" target=\"_parent\"><img src=\"https://colab.research.google.com/assets/colab-badge.svg\" alt=\"Open In Colab\"/></a>"
      ]
    },
    {
      "cell_type": "code",
      "source": [
        "class Vehicle:\n",
        "    def __init__(self):\n",
        "        # Default constructor with no parameters\n",
        "        self.brand = \"Unknown\"\n",
        "        self.model = \"Unknown\"\n",
        "        self.year = 0\n",
        "\n",
        "    def display_info(self):\n",
        "        print(f\"Brand: {self.brand}\")\n",
        "        print(f\"Model: {self.model}\")\n",
        "        print(f\"Year: {self.year}\")\n",
        "\n",
        "# Creating an object using default constructor\n",
        "vehicle1 = Vehicle()\n",
        "vehicle1.display_info()\n"
      ],
      "metadata": {
        "id": "SBvK7jPtlowI",
        "outputId": "e3bbdbed-2bdd-49e6-dd72-9a6029f5394e",
        "colab": {
          "base_uri": "https://localhost:8080/"
        }
      },
      "execution_count": 20,
      "outputs": [
        {
          "output_type": "stream",
          "name": "stdout",
          "text": [
            "Brand: Unknown\n",
            "Model: Unknown\n",
            "Year: 0\n"
          ]
        }
      ]
    }
  ],
  "metadata": {
    "colab": {
      "name": "Welcome To Colab",
      "provenance": [],
      "include_colab_link": true
    },
    "kernelspec": {
      "display_name": "Python 3",
      "name": "python3"
    }
  },
  "nbformat": 4,
  "nbformat_minor": 0
}