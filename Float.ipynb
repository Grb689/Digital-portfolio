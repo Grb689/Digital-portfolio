{
  "cells": [
    {
      "cell_type": "markdown",
      "metadata": {
        "id": "view-in-github",
        "colab_type": "text"
      },
      "source": [
        "<a href=\"https://colab.research.google.com/github/Grb689/Digital-portfolio/blob/main/Float.ipynb\" target=\"_parent\"><img src=\"https://colab.research.google.com/assets/colab-badge.svg\" alt=\"Open In Colab\"/></a>"
      ]
    },
    {
      "cell_type": "code",
      "source": [
        "# This program demonstrates the 'float' data type\n",
        "\n",
        "# Declaring float variables\n",
        "x = 10.5\n",
        "y = 2.3\n",
        "z = x * y  # Multiplying two floats\n",
        "\n",
        "# Displaying the values and their type\n",
        "print(\"Value of x:\", x)\n",
        "print(\"Value of y:\", y)\n",
        "print(\"Product of x and y:\", z)\n",
        "print(\"Type of x:\", type(x))\n",
        "print(\"Type of y:\", type(y))\n",
        "print(\"Type of z:\", type(z))\n"
      ],
      "metadata": {
        "id": "_8ZjKVrdgEi_",
        "outputId": "5da34b1a-032e-4608-f470-50fbe133307e",
        "colab": {
          "base_uri": "https://localhost:8080/"
        }
      },
      "execution_count": 4,
      "outputs": [
        {
          "output_type": "stream",
          "name": "stdout",
          "text": [
            "Value of x: 10.5\n",
            "Value of y: 2.3\n",
            "Product of x and y: 24.15\n",
            "Type of x: <class 'float'>\n",
            "Type of y: <class 'float'>\n",
            "Type of z: <class 'float'>\n"
          ]
        }
      ]
    }
  ],
  "metadata": {
    "colab": {
      "name": "Welcome To Colab",
      "provenance": [],
      "include_colab_link": true
    },
    "kernelspec": {
      "display_name": "Python 3",
      "name": "python3"
    }
  },
  "nbformat": 4,
  "nbformat_minor": 0
}