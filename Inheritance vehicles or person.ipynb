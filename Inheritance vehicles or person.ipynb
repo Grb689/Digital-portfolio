{
  "cells": [
    {
      "cell_type": "markdown",
      "metadata": {
        "id": "view-in-github",
        "colab_type": "text"
      },
      "source": [
        "<a href=\"https://colab.research.google.com/github/Grb689/Digital-portfolio/blob/main/Inheritance%20vehicles%20or%20person.ipynb\" target=\"_parent\"><img src=\"https://colab.research.google.com/assets/colab-badge.svg\" alt=\"Open In Colab\"/></a>"
      ]
    },
    {
      "cell_type": "code",
      "source": [
        "# Base class\n",
        "class Vehicle:\n",
        "    def __init__(self, brand, model):\n",
        "        self.brand = brand\n",
        "        self.model = model\n",
        "\n",
        "    def display_info(self):\n",
        "        print(f\"Vehicle Brand: {self.brand}\")\n",
        "        print(f\"Vehicle Model: {self.model}\")\n",
        "\n",
        "# Derived class inheriting from Vehicle\n",
        "class Car(Vehicle):\n",
        "    def __init__(self, brand, model, doors):\n",
        "        super().__init__(brand, model)  # Call the parent class constructor\n",
        "        self.doors = doors\n",
        "\n",
        "    def display_car_info(self):\n",
        "        self.display_info()  # Call method from Vehicle\n"
      ],
      "metadata": {
        "id": "UX_6ARznjtoz"
      },
      "execution_count": 13,
      "outputs": []
    }
  ],
  "metadata": {
    "colab": {
      "name": "Welcome To Colab",
      "provenance": [],
      "include_colab_link": true
    },
    "kernelspec": {
      "display_name": "Python 3",
      "name": "python3"
    }
  },
  "nbformat": 4,
  "nbformat_minor": 0
}