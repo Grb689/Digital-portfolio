{
  "cells": [
    {
      "cell_type": "markdown",
      "metadata": {
        "id": "view-in-github",
        "colab_type": "text"
      },
      "source": [
        "<a href=\"https://colab.research.google.com/github/Grb689/Digital-portfolio/blob/main/Int.ipynb\" target=\"_parent\"><img src=\"https://colab.research.google.com/assets/colab-badge.svg\" alt=\"Open In Colab\"/></a>"
      ]
    },
    {
      "cell_type": "code",
      "source": [
        "# This is an example program to demonstrate the 'int' data type\n",
        "\n",
        "# Declaring integer variables\n",
        "a = 10\n",
        "b = 5\n",
        "c = a + b  # Adding two integers\n",
        "\n",
        "# Displaying the values and their type\n",
        "print(\"Value of a:\", a)\n",
        "print(\"Value of b:\", b)\n",
        "print(\"Sum of a and b:\", c)\n",
        "print(\"Type of a:\", type(a))\n",
        "print(\"Type of b:\", type(b))\n",
        "print(\"Type of c:\", type(c))\n"
      ],
      "metadata": {
        "id": "qDu81e4Dfjxm",
        "outputId": "50364492-94fa-4b55-e296-7e6b39806764",
        "colab": {
          "base_uri": "https://localhost:8080/"
        }
      },
      "execution_count": 3,
      "outputs": [
        {
          "output_type": "stream",
          "name": "stdout",
          "text": [
            "Value of a: 10\n",
            "Value of b: 5\n",
            "Sum of a and b: 15\n",
            "Type of a: <class 'int'>\n",
            "Type of b: <class 'int'>\n",
            "Type of c: <class 'int'>\n"
          ]
        }
      ]
    }
  ],
  "metadata": {
    "colab": {
      "name": "Welcome To Colab",
      "provenance": [],
      "include_colab_link": true
    },
    "kernelspec": {
      "display_name": "Python 3",
      "name": "python3"
    }
  },
  "nbformat": 4,
  "nbformat_minor": 0
}