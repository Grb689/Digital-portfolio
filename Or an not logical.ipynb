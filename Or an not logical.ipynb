{
  "cells": [
    {
      "cell_type": "markdown",
      "metadata": {
        "id": "view-in-github",
        "colab_type": "text"
      },
      "source": [
        "<a href=\"https://colab.research.google.com/github/Grb689/Digital-portfolio/blob/main/Or%20an%20not%20logical.ipynb\" target=\"_parent\"><img src=\"https://colab.research.google.com/assets/colab-badge.svg\" alt=\"Open In Colab\"/></a>"
      ]
    },
    {
      "cell_type": "code",
      "source": [
        "# Input from the user\n",
        "temperature = int(input(\"Enter the temperature in °C: \"))\n",
        "\n",
        "# Check if the temperature is NOT comfortable:\n",
        "# Comfortable if between 20 and 30 degrees inclusive.\n",
        "if not (20 <= temperature <= 30) or temperature < 0:\n",
        "    print(\"The temperature is NOT comfortable.\")\n",
        "else:\n",
        "    print(\"The temperature is comfortable.\")\n"
      ],
      "metadata": {
        "id": "7W9q_RAujYmq"
      },
      "execution_count": null,
      "outputs": []
    }
  ],
  "metadata": {
    "colab": {
      "name": "Welcome To Colab",
      "provenance": [],
      "include_colab_link": true
    },
    "kernelspec": {
      "display_name": "Python 3",
      "name": "python3"
    }
  },
  "nbformat": 4,
  "nbformat_minor": 0
}