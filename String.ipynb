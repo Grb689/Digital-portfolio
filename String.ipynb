{
  "cells": [
    {
      "cell_type": "markdown",
      "metadata": {
        "id": "view-in-github",
        "colab_type": "text"
      },
      "source": [
        "<a href=\"https://colab.research.google.com/github/Grb689/Digital-portfolio/blob/main/String.ipynb\" target=\"_parent\"><img src=\"https://colab.research.google.com/assets/colab-badge.svg\" alt=\"Open In Colab\"/></a>"
      ]
    },
    {
      "cell_type": "code",
      "source": [],
      "metadata": {
        "id": "2SeHlY-Jb63n"
      },
      "execution_count": null,
      "outputs": []
    },
    {
      "cell_type": "code",
      "source": [],
      "metadata": {
        "id": "ZsJdWVe4cBwi"
      },
      "execution_count": null,
      "outputs": []
    },
    {
      "cell_type": "code",
      "source": [
        "# String Declaration\n",
        "name = \"Alice\"\n",
        "greeting = \"Hello\"\n",
        "sentence = \"Welcome to the world of Python!\"\n",
        "\n",
        "# String Concatenation\n",
        "full_greeting = greeting + \", \" + name + \"!\"\n",
        "print(\"Full Greeting:\", full_greeting)\n",
        "\n",
        "# String Length\n",
        "print(\"Length of sentence:\", len(sentence))\n",
        "\n",
        "# Accessing Characters by Index\n",
        "print(\"First character of name:\", name[0])\n",
        "print(\"Last character of sentence:\", sentence[-1])\n",
        "\n",
        "# String Slicing\n",
        "print(\"First 7 characters of sentence:\", sentence[:7])\n",
        "print(\"Last 6 characters of sentence:\", sentence[-6:])\n",
        "\n",
        "# String Methods\n",
        "print(\"Uppercase:\", name.upper())\n",
        "print(\"Lowercase:\", sentence.lower())\n",
        "print(\"Is the name alphabetic?\", name.isalpha())\n",
        "print(\"Does the sentence start with 'Welcome'?\", sentence.startswith(\"Welcome\"))\n",
        "\n",
        "# Multiline String\n",
        "multiline = \"\"\"This is a\n",
        "multiline string example\n",
        "in Python.\"\"\"\n",
        "print(\"Multiline string:\\n\", multiline)\n"
      ],
      "metadata": {
        "id": "VQkLhY3wb6r9",
        "outputId": "809f2e74-63ba-4e03-fbb2-9ef3968f965e",
        "colab": {
          "base_uri": "https://localhost:8080/"
        }
      },
      "execution_count": 2,
      "outputs": [
        {
          "output_type": "stream",
          "name": "stdout",
          "text": [
            "Full Greeting: Hello, Alice!\n",
            "Length of sentence: 31\n",
            "First character of name: A\n",
            "Last character of sentence: !\n",
            "First 7 characters of sentence: Welcome\n",
            "Last 6 characters of sentence: ython!\n",
            "Uppercase: ALICE\n",
            "Lowercase: welcome to the world of python!\n",
            "Is the name alphabetic? True\n",
            "Does the sentence start with 'Welcome'? True\n",
            "Multiline string:\n",
            " This is a\n",
            "multiline string example\n",
            "in Python.\n"
          ]
        }
      ]
    }
  ],
  "metadata": {
    "colab": {
      "name": "Welcome To Colab",
      "provenance": [],
      "include_colab_link": true
    },
    "kernelspec": {
      "display_name": "Python 3",
      "name": "python3"
    }
  },
  "nbformat": 4,
  "nbformat_minor": 0
}